{
 "cells": [
  {
   "cell_type": "code",
   "execution_count": 1,
   "metadata": {},
   "outputs": [],
   "source": [
    "import subprocess\n",
    "\n",
    "def extract_audio_from_video(video_path, autio_path):\n",
    "    command = [\"ffmpeg\", \"-i\", video_path, \"-vn\", autio_path]\n",
    "\n",
    "    subprocess.run(command)\n",
    "\n",
    "extract_audio_from_video(\"./files/podcast.mp4\", \"./files/podcast.mp3\",)"
   ]
  }
 ],
 "metadata": {
  "kernelspec": {
   "display_name": "env",
   "language": "python",
   "name": "python3"
  },
  "language_info": {
   "codemirror_mode": {
    "name": "ipython",
    "version": 3
   },
   "file_extension": ".py",
   "mimetype": "text/x-python",
   "name": "python",
   "nbconvert_exporter": "python",
   "pygments_lexer": "ipython3",
   "version": "3.11.6"
  }
 },
 "nbformat": 4,
 "nbformat_minor": 2
}
