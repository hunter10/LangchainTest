{
 "cells": [
  {
   "cell_type": "code",
   "execution_count": 7,
   "metadata": {},
   "outputs": [
    {
     "data": {
      "text/plain": [
       "' common source of carbohydrates as well as fats, protein, and carbohydrates. The seeds that are grown on rice are often labeled with red, white, or blue color when grown. An orange grapefruit may be a common source of carbohydrate.'"
      ]
     },
     "execution_count": 7,
     "metadata": {},
     "output_type": "execute_result"
    }
   ],
   "source": [
    "from langchain.llms.huggingface_pipeline import HuggingFacePipeline\n",
    "from langchain.prompts import PromptTemplate\n",
    "\n",
    "prompt = PromptTemplate.from_template(\"A {word} is a\")\n",
    "\n",
    "llm = HuggingFacePipeline.from_model_id(\n",
    "    model_id=\"gpt2\",\n",
    "    #model_id=\"tiiuae/falcon-7b-instruct\", #메모리 부족으로 실행이 안됨\n",
    "    task=\"text-generation\",\n",
    "    device=-1, #0:GPU, -1:CPU\n",
    "    pipeline_kwargs={\n",
    "        \"max_new_tokens\":150\n",
    "    }\n",
    ")\n",
    "\n",
    "chain = prompt | llm\n",
    "\n",
    "#chain.invoke({\"word\": \"potato\"})\n",
    "chain.invoke({\"word\": \"tomato\"})"
   ]
  }
 ],
 "metadata": {
  "kernelspec": {
   "display_name": "env",
   "language": "python",
   "name": "python3"
  },
  "language_info": {
   "codemirror_mode": {
    "name": "ipython",
    "version": 3
   },
   "file_extension": ".py",
   "mimetype": "text/x-python",
   "name": "python",
   "nbconvert_exporter": "python",
   "pygments_lexer": "ipython3",
   "version": "3.11.6"
  }
 },
 "nbformat": 4,
 "nbformat_minor": 2
}
