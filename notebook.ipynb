{
 "cells": [
  {
   "cell_type": "code",
   "execution_count": 2,
   "metadata": {},
   "outputs": [],
   "source": [
    "import subprocess\n",
    "from pydub import AudioSegment # type: ignore\n",
    "import math\n",
    "import openai # type: ignore\n",
    "import glob\n",
    "\n",
    "# 비디오에서 오디오 추출\n",
    "def extract_audio_from_video(video_path, autio_path):\n",
    "    command = [\n",
    "        \"ffmpeg\", \n",
    "        \"-i\",           # 인풋\n",
    "        video_path, \n",
    "        \"-vn\",          # 비디오 없이\n",
    "        autio_path,\n",
    "    ]\n",
    "\n",
    "    subprocess.run(command)\n",
    "\n",
    "# 오디오에서 10분 단위로 자르기\n",
    "def cut_audio_in_chunk(audio_path, chunk_size, chunk_folder):\n",
    "    track = AudioSegment.from_mp3(audio_path)\n",
    "    chunk_len = chunk_size * 60 * 1000\n",
    "    chunks = math.ceil(len(track) / chunk_len)\n",
    "\n",
    "    for i in range(chunks):\n",
    "        start_time = i * chunk_len\n",
    "        end_time = (i + 1) * chunk_len\n",
    "        chunk = track[start_time:end_time]\n",
    "        chunk.export(f\"{chunk_folder}/chunk_{i}.mp3\", format=\"mp3\")\n",
    "\n",
    "\n",
    "\n",
    "extract_audio_from_video(\"./files/podcast.mp4\", \"./files/podcast.mp3\",) # 영상파일을 음성파일로\n",
    "cut_audio_in_chunk(\"./files/podcast.mp3\", 10, \"./files/chunks\")\n",
    "# track.duration_seconds\n",
    "\n",
    "\n"
   ]
  },
  {
   "cell_type": "code",
   "execution_count": 5,
   "metadata": {},
   "outputs": [],
   "source": [
    "\n",
    "\n",
    "# transcript = openai.Audio.transcribe(\"whisper-1\", open(\"./files/chunks/chunk_0.mp3\", \"rb\"), )\n",
    "# transcript[\"text\"]\n",
    "\n",
    "# 오디오 파일에서 텍스트로 추출하기\n",
    "def transcribe_chunks(chunk_folder, destination):\n",
    "    files = glob.glob(f\"{chunk_folder}/*.mp3\")\n",
    "    for file in files:\n",
    "        with open(file, \"rb\") as audio_file, open(destination, \"a\") as text_file:\n",
    "            transcript = openai.Audio.transcribe(\n",
    "                \"whisper-1\", \n",
    "                audio_file, \n",
    "            )\n",
    "            text_file.write(transcript[\"text\"])\n",
    "    \n",
    "\n",
    "transcribe_chunks(\n",
    "    \"./files/chunks\", \n",
    "    \"./files/transcript.txt\",\n",
    ")\n",
    "\n",
    "\n",
    "# transcript = openai.audio.transcriptions.create(\n",
    "# model=\"whisper-1\",\n",
    "# file=open(\"./files/chunks/chunk_0.mp3\", \"rb\"),\n",
    "# language=\"en\"\n",
    "# )\n",
    "\n"
   ]
  }
 ],
 "metadata": {
  "kernelspec": {
   "display_name": "env",
   "language": "python",
   "name": "python3"
  },
  "language_info": {
   "codemirror_mode": {
    "name": "ipython",
    "version": 3
   },
   "file_extension": ".py",
   "mimetype": "text/x-python",
   "name": "python",
   "nbconvert_exporter": "python",
   "pygments_lexer": "ipython3",
   "version": "3.11.6"
  }
 },
 "nbformat": 4,
 "nbformat_minor": 2
}
