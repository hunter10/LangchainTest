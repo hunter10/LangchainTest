{
 "cells": [
  {
   "cell_type": "code",
   "execution_count": 6,
   "metadata": {},
   "outputs": [
    {
     "name": "stdout",
     "output_type": "stream",
     "text": [
      "\n",
      "Tomato is a small, round or oval fruit that grows on the vine of the nightshade family. It is botanically classified as Solanum lycopersicum and is commonly known as the \"love apple\". Tomatoes are used in various dishes for their sweet, juicy flavor and are also used as a vegetable in salads and soups.\n"
     ]
    }
   ],
   "source": [
    "#from langchain.llms.huggingface_pipeline import HuggingFacePipeline\n",
    "from gpt4all import GPT4All\n",
    "from langchain.prompts import PromptTemplate\n",
    "\n",
    "prompt = PromptTemplate.from_template(\"A {word} is a\")\n",
    "\n",
    "#llm = HuggingFacePipeline.from_model_id(\n",
    "llm = GPT4All(\n",
    "    \"orca-mini-3b-gguf2-q4_0.gguf\"\n",
    ")\n",
    "\n",
    "output = llm.generate(\"What is tomato?\", max_tokens=100)\n",
    "print(output)\n",
    "\n",
    "#chain = prompt | llm\n",
    "\n",
    "#chain.invoke({\"word\": \"potato\"})\n",
    "#chain.invoke({\"word\": \"tomato\"})"
   ]
  }
 ],
 "metadata": {
  "kernelspec": {
   "display_name": "env",
   "language": "python",
   "name": "python3"
  },
  "language_info": {
   "codemirror_mode": {
    "name": "ipython",
    "version": 3
   },
   "file_extension": ".py",
   "mimetype": "text/x-python",
   "name": "python",
   "nbconvert_exporter": "python",
   "pygments_lexer": "ipython3",
   "version": "3.11.6"
  }
 },
 "nbformat": 4,
 "nbformat_minor": 2
}
