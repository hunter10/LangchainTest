{
 "cells": [
  {
   "cell_type": "code",
   "execution_count": 5,
   "metadata": {},
   "outputs": [
    {
     "name": "stdout",
     "output_type": "stream",
     "text": [
      "\n",
      "\n",
      "\u001b[1m> Entering new AgentExecutor chain...\u001b[0m\n",
      "\u001b[32;1m\u001b[1;3mI need to add up all these numbers to find the total cost.\n",
      "Action: Sum Calculator\n",
      "Action Input: 355.39, 924.87\u001b[0m\n",
      "Observation: \u001b[36;1m\u001b[1;3m1280.26\u001b[0m\n",
      "Thought:\u001b[32;1m\u001b[1;3mI need to continue adding the remaining numbers to the total.\n",
      "Action: Sum Calculator\n",
      "Action Input: 1280.26, 721.2\u001b[0m\n",
      "Observation: \u001b[36;1m\u001b[1;3m2001.46\u001b[0m\n",
      "Thought:\u001b[32;1m\u001b[1;3mI need to continue adding the remaining numbers to the total.\n",
      "Action: Sum Calculator\n",
      "Action Input: 2001.46, 1940.29\u001b[0m\n",
      "Observation: \u001b[36;1m\u001b[1;3m3941.75\u001b[0m\n",
      "Thought:\u001b[32;1m\u001b[1;3mI need to continue adding the remaining numbers to the total.\n",
      "Action: Sum Calculator\n",
      "Action Input: 3941.75, 573.63\u001b[0m\n",
      "Observation: \u001b[36;1m\u001b[1;3m4515.38\u001b[0m\n",
      "Thought:\u001b[32;1m\u001b[1;3mI need to continue adding the remaining numbers to the total.\n",
      "Action: Sum Calculator\n",
      "Action Input: 4515.38, 65.72\u001b[0m\n",
      "Observation: \u001b[36;1m\u001b[1;3m4581.1\u001b[0m\n",
      "Thought:\u001b[32;1m\u001b[1;3mI need to continue adding the remaining numbers to the total.\n",
      "Action: Sum Calculator\n",
      "Action Input: 4581.1, 35.00\u001b[0m\n",
      "Observation: \u001b[36;1m\u001b[1;3m4616.1\u001b[0m\n",
      "Thought:\u001b[32;1m\u001b[1;3mI need to continue adding the remaining numbers to the total.\n",
      "Action: Sum Calculator\n",
      "Action Input: 4616.1, 552.00\u001b[0m\n",
      "Observation: \u001b[36;1m\u001b[1;3m5168.1\u001b[0m\n",
      "Thought:\u001b[32;1m\u001b[1;3mI need to continue adding the remaining numbers to the total.\n",
      "Action: Sum Calculator\n",
      "Action Input: 5168.1, 76.16\u001b[0m\n",
      "Observation: \u001b[36;1m\u001b[1;3m5244.26\u001b[0m\n",
      "Thought:\u001b[32;1m\u001b[1;3mI need to add the last number to the total to get the final answer.\n",
      "Action: Sum Calculator\n",
      "Action Input: 5244.26, 29.12\u001b[0m\n",
      "Observation: \u001b[36;1m\u001b[1;3m5273.38\u001b[0m\n",
      "Thought:\u001b[32;1m\u001b[1;3mI now know the final answer\n",
      "Final Answer: The total cost is $5273.38\u001b[0m\n",
      "\n",
      "\u001b[1m> Finished chain.\u001b[0m\n"
     ]
    },
    {
     "data": {
      "text/plain": [
       "{'input': 'Tell me Total Cost of $355.39 + $924.87 + $721.2 + $1940.29 + $573.63 + $65.72 + $35.00 + $552.00 + $76.16 + $29.12',\n",
       " 'output': 'The total cost is $5273.38'}"
      ]
     },
     "execution_count": 5,
     "metadata": {},
     "output_type": "execute_result"
    }
   ],
   "source": [
    "#에디터 textLineLimit값에 따라 계산이 중간에 멈출수 있음\n",
    "\n",
    "from langchain.chat_models import ChatOpenAI\n",
    "from langchain.tools import StructuredTool, Tool\n",
    "from langchain.agents import initialize_agent, AgentType\n",
    "\n",
    "llm = ChatOpenAI(temperature=0.1)\n",
    "\n",
    "def plus(inputs):\n",
    "    a, b = inputs.split(\",\")\n",
    "    return float(a) +float(b)\n",
    "\n",
    "agent = initialize_agent(\n",
    "    llm=llm, \n",
    "    verbose=True,\n",
    "    #agent=AgentType.STRUCTURED_CHAT_ZERO_SHOT_REACT_DESCRIPTION, # 다중인자를 받을수 있음\n",
    "    agent=AgentType.ZERO_SHOT_REACT_DESCRIPTION, # 인자를 하나만 받을수 있음\n",
    "    handle_parsing_errors=True, # 영상과 달리 2024.9.2 현재 이 문장이 없어도 문법에러는 없음\n",
    "    tools=[\n",
    "        #StructuredTool.from_function(\n",
    "        Tool.from_function(\n",
    "            func=plus,\n",
    "            name=\"Sum Calculator\",\n",
    "            description=\"Use this to perform sums of two numbers. Use this tool by sending a pair of number separated by a comma.\\nExample:1,2\"\n",
    "        ),\n",
    "    ],\n",
    ")\n",
    " \n",
    "# 합계 $5273.38\n",
    "prompt = \"Tell me Total Cost of $355.39 + $924.87 + $721.2 + $1940.29 + $573.63 + $65.72 + $35.00 + $552.00 + $76.16 + $29.12\"\n",
    "\n",
    "# llm으로만 프롬프트 실행\n",
    "# llm.invoke(prompt)\n",
    "\n",
    "agent.invoke(prompt)"
   ]
  }
 ],
 "metadata": {
  "kernelspec": {
   "display_name": "env",
   "language": "python",
   "name": "python3"
  },
  "language_info": {
   "codemirror_mode": {
    "name": "ipython",
    "version": 3
   },
   "file_extension": ".py",
   "mimetype": "text/x-python",
   "name": "python",
   "nbconvert_exporter": "python",
   "pygments_lexer": "ipython3",
   "version": "3.11.6"
  }
 },
 "nbformat": 4,
 "nbformat_minor": 2
}
