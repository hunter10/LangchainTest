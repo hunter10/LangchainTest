{
 "cells": [
  {
   "cell_type": "code",
   "execution_count": 1,
   "metadata": {},
   "outputs": [],
   "source": [
    "from openai import OpenAI\n",
    "\n",
    "# 어시스턴트 생성로직 한번만 실행해야 함. 실행후에 주석처리 요망\n",
    "\n",
    "client = OpenAI()\n",
    "\n",
    "assistant = client.beta.assistants.create(\n",
    "name=\"Book Assistant\",\n",
    "instructions=\"You help users with their question on the files they upload.\",\n",
    "model=\"gpt-4o-mini\"\",\n",
    "tools=[{\"type\":\"file_search\"}],\n",
    ")\n",
    "assistant\n",
    "\n",
    "# assistant_id = \"asst_13eo2MdAQaNGc4XTBhTHlOW3\" # 기업 주식을 사도 되는지 물어보는 어시스턴트\n",
    "#assistant_id =\"asst_0HebldM6GtgdVEQPszxsTi8O\" # 책 내용분석 어시스턴트\n",
    "\n"
   ]
  },
  {
   "cell_type": "code",
   "execution_count": 2,
   "metadata": {},
   "outputs": [
    {
     "data": {
      "text/plain": [
       "Thread(id='thread_kvF28sKo7CjUmji79b3Ekbz6', created_at=1727925773, metadata={}, object='thread', tool_resources=ToolResources(code_interpreter=None, file_search=None), _request_id='req_23c975cd30cecffa448076a7bb8b45a1', __exclude_fields__={'__exclude_fields__', '_request_id'})"
      ]
     },
     "execution_count": 2,
     "metadata": {},
     "output_type": "execute_result"
    }
   ],
   "source": [
    "client = OpenAI()\n",
    "\n",
    "thread = client.beta.threads.create(\n",
    "    messages = [\n",
    "        {\n",
    "            \"role\":\"user\",\n",
    "            \"content\": \"I want you to help me with this file\",\n",
    "        }\n",
    "    ]\n",
    ")\n",
    "thread"
   ]
  },
  {
   "cell_type": "code",
   "execution_count": 3,
   "metadata": {},
   "outputs": [
    {
     "data": {
      "text/plain": [
       "FileObject(id='file-deZwR72sgtr6FuJkGKka9wp7', bytes=69355, created_at=1727925777, filename='chapter_one.pdf', object='file', purpose='assistants', status='processed', status_details=None, _request_id='req_7e0228fe2ef50d63ae2a66075c86c85b', __exclude_fields__={'__exclude_fields__', '_request_id'})"
      ]
     },
     "execution_count": 3,
     "metadata": {},
     "output_type": "execute_result"
    }
   ],
   "source": [
    "file = client.files.create(\n",
    "    file=open(\"./files/chapter_one.pdf\", \"rb\"),\n",
    "    purpose=\"assistants\",\n",
    ")\n",
    "file"
   ]
  },
  {
   "cell_type": "code",
   "execution_count": 4,
   "metadata": {},
   "outputs": [
    {
     "data": {
      "text/plain": [
       "Message(id='msg_ANxL0AIW5W6oms8k95MxH1es', assistant_id=None, attachments=[Attachment(file_id='file-deZwR72sgtr6FuJkGKka9wp7', tools=[AttachmentToolAssistantToolsFileSearchTypeOnly(type='file_search')])], completed_at=None, content=[TextContentBlock(text=Text(annotations=[], value='Please refer to the uploaded file for my question.'), type='text')], created_at=1727925781, incomplete_at=None, incomplete_details=None, metadata={}, object='thread.message', role='user', run_id=None, status=None, thread_id='thread_kvF28sKo7CjUmji79b3Ekbz6', _request_id='req_d6cb74190a4d4b894dd11361712d660b', __exclude_fields__={'__exclude_fields__', '_request_id'})"
      ]
     },
     "execution_count": 4,
     "metadata": {},
     "output_type": "execute_result"
    }
   ],
   "source": [
    "client.beta.threads.messages.create(\n",
    "    thread_id=thread.id,\n",
    "    role=\"user\",\n",
    "    content=\"Please refer to the uploaded file for my question.\",\n",
    "    attachments=[\n",
    "        {\n",
    "            \"file_id\":file.id,\n",
    "            \"tools\":[\n",
    "                {\n",
    "                    \"type\":\"file_search\",\n",
    "                },\n",
    "            ],\n",
    "        },\n",
    "    ],\n",
    ")"
   ]
  },
  {
   "cell_type": "code",
   "execution_count": 13,
   "metadata": {},
   "outputs": [
    {
     "data": {
      "text/plain": [
       "Run(id='run_QH4VmSqmJpga87D0g1QX16PX', assistant_id='asst_0HebldM6GtgdVEQPszxsTi8O', cancelled_at=None, completed_at=None, created_at=1727925877, expires_at=1727926477, failed_at=None, incomplete_details=None, instructions='You help users with their question on the files they upload.', last_error=None, max_completion_tokens=None, max_prompt_tokens=None, metadata={}, model='gpt-4o', object='thread.run', parallel_tool_calls=True, required_action=None, response_format='auto', started_at=None, status='queued', thread_id='thread_kvF28sKo7CjUmji79b3Ekbz6', tool_choice='auto', tools=[FileSearchTool(type='file_search', file_search=FileSearch(max_num_results=None, ranking_options=FileSearchRankingOptions(score_threshold=0.0, ranker='default_2024_08_21')))], truncation_strategy=TruncationStrategy(type='auto', last_messages=None), usage=None, temperature=1.0, top_p=1.0, tool_resources={}, _request_id='req_47dfe13bc29126a6d9f276efa1cdd45b', __exclude_fields__={'__exclude_fields__', '_request_id'})"
      ]
     },
     "execution_count": 13,
     "metadata": {},
     "output_type": "execute_result"
    }
   ],
   "source": [
    "\n",
    "run = client.beta.threads.runs.create(\n",
    "    thread_id=thread.id,\n",
    "    assistant_id=assistant_id\n",
    ")\n",
    "run"
   ]
  },
  {
   "cell_type": "code",
   "execution_count": 5,
   "metadata": {},
   "outputs": [],
   "source": [
    "def get_run(run_id, thread_id):\n",
    "    return client.beta.threads.runs.retrieve(\n",
    "        run_id=run_id,\n",
    "        thread_id=thread_id\n",
    "    )\n",
    "\n",
    "def send_messages(thread_id, content):\n",
    "    return client.beta.threads.messages.create(\n",
    "        thread_id=thread_id,\n",
    "        role=\"user\",\n",
    "        content=content\n",
    "    )\n",
    "\n",
    "def get_messages(thread_id):\n",
    "    messages = client.beta.threads.messages.list(\n",
    "        thread_id=thread_id\n",
    "    )\n",
    "    messages = list(messages)\n",
    "    messages.reverse()\n",
    "    for message in messages:\n",
    "        print(f\"{message.role}: {message.content[0].text.value}\")\n"
   ]
  },
  {
   "cell_type": "code",
   "execution_count": 14,
   "metadata": {},
   "outputs": [
    {
     "data": {
      "text/plain": [
       "'failed'"
      ]
     },
     "execution_count": 14,
     "metadata": {},
     "output_type": "execute_result"
    }
   ],
   "source": [
    "get_run(run.id, thread.id).status"
   ]
  },
  {
   "cell_type": "code",
   "execution_count": 12,
   "metadata": {},
   "outputs": [
    {
     "name": "stdout",
     "output_type": "stream",
     "text": [
      "user: I want you to help me with this file\n",
      "user: Please refer to the uploaded file for my question.\n",
      "user: I want to know where Winston lives and how his apartment looks like.\n"
     ]
    }
   ],
   "source": [
    "get_messages(thread.id)"
   ]
  },
  {
   "cell_type": "code",
   "execution_count": 11,
   "metadata": {},
   "outputs": [
    {
     "data": {
      "text/plain": [
       "Message(id='msg_H0PCLXcWG36YgUbcfNquCoMj', assistant_id=None, attachments=[], completed_at=None, content=[TextContentBlock(text=Text(annotations=[], value='I want to know where Winston lives and how his apartment looks like.'), type='text')], created_at=1727925844, incomplete_at=None, incomplete_details=None, metadata={}, object='thread.message', role='user', run_id=None, status=None, thread_id='thread_kvF28sKo7CjUmji79b3Ekbz6', _request_id='req_09726e4bebee6acea3b65d2e40c4311a', __exclude_fields__={'__exclude_fields__', '_request_id'})"
      ]
     },
     "execution_count": 11,
     "metadata": {},
     "output_type": "execute_result"
    }
   ],
   "source": [
    "send_messages(thread.id, \"I want to know where Winston lives and how his apartment looks like.\")"
   ]
  }
 ],
 "metadata": {
  "kernelspec": {
   "display_name": "env",
   "language": "python",
   "name": "python3"
  },
  "language_info": {
   "codemirror_mode": {
    "name": "ipython",
    "version": 3
   },
   "file_extension": ".py",
   "mimetype": "text/x-python",
   "name": "python",
   "nbconvert_exporter": "python",
   "pygments_lexer": "ipython3",
   "version": "3.11.6"
  }
 },
 "nbformat": 4,
 "nbformat_minor": 2
}
