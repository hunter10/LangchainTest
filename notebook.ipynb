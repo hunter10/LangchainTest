{
 "cells": [
  {
   "cell_type": "code",
   "execution_count": 14,
   "metadata": {},
   "outputs": [],
   "source": [
    "from langchain.utilities.duckduckgo_search import DuckDuckGoSearchAPIWrapper\n",
    "import yfinance\n",
    "import json\n",
    "\n",
    "def get_ticker(inputs):\n",
    "    ddg = DuckDuckGoSearchAPIWrapper()\n",
    "    company_name = inputs[\"company_name\"]\n",
    "    return ddg.run(f\"Ticker symbol of {company_name}\")\n",
    "\n",
    "def get_income_statement(inputs):\n",
    "    ticker = inputs[\"ticker\"]\n",
    "    stock = yfinance.Ticker(ticker)\n",
    "    return json.dumps(stock.income_stmt.to_json())\n",
    "\n",
    "def get_balance_sheet(inputs):\n",
    "    ticker = inputs[\"ticker\"]\n",
    "    stock = yfinance.Ticker(ticker)\n",
    "    return json.dumps(stock.balance_sheet.to_json())\n",
    "\n",
    "def get_daily_stock_performance(inputs):\n",
    "    ticker = inputs[\"ticker\"]\n",
    "    stock = yfinance.Ticker(ticker)\n",
    "    return json.dumps(stock.history(period=\"3mo\").to_json())\n",
    "\n",
    "functions_map = {\n",
    "    \"get_ticker\": get_ticker,\n",
    "    \"get_income_statement\": get_income_statement,\n",
    "    \"get_balance_sheet\": get_balance_sheet,\n",
    "    \"get_daily_stock_performance\": get_daily_stock_performance,\n",
    "}\n",
    "\n",
    "functions = [\n",
    "    {\n",
    "        \"type\": \"function\",\n",
    "        \"function\": {\n",
    "            \"name\": \"get_ticker\",\n",
    "            \"description\": \"Given the name of a company returns its ticker symbol\",\n",
    "            \"parameters\": {\n",
    "                \"type\": \"object\",\n",
    "                \"properties\":{\n",
    "                    \"company_name\": {\n",
    "                        \"type\":\"string\",\n",
    "                        \"description\":\"The name of the company\"\n",
    "                    }\n",
    "                },\n",
    "                \"required\": [\"company_name\"],\n",
    "            },\n",
    "        },\n",
    "    },\n",
    "    {\n",
    "        \"type\": \"function\",\n",
    "        \"function\": {\n",
    "            \"name\": \"get_income_statement\",\n",
    "            \"description\": \"Given a ticker symbol (i.e AAPL) returns the company's income statement.\",\n",
    "            \"parameters\": {\n",
    "                \"type\": \"object\",\n",
    "                \"properties\": {\n",
    "                    \"ticker\": {\n",
    "                        \"type\": \"string\",\n",
    "                        \"description\": \"Ticker symbol of the company\",\n",
    "                    },\n",
    "                },\n",
    "                \"required\": [\"ticker\"],\n",
    "            },\n",
    "        },\n",
    "    },\n",
    "    {\n",
    "        \"type\": \"function\",\n",
    "        \"function\": {\n",
    "            \"name\": \"get_balance_sheet\",\n",
    "            \"description\": \"Given a ticker symbol (i.e AAPL) returns the company's balance sheet.\",\n",
    "            \"parameters\": {\n",
    "                \"type\": \"object\",\n",
    "                \"properties\": {\n",
    "                    \"ticker\": {\n",
    "                        \"type\": \"string\",\n",
    "                        \"description\": \"Ticker symbol of the company\",\n",
    "                    },\n",
    "                },\n",
    "                \"required\": [\"ticker\"],\n",
    "            },\n",
    "        },\n",
    "    },\n",
    "    {\n",
    "        \"type\": \"function\",\n",
    "        \"function\": {\n",
    "            \"name\": \"get_daily_stock_performance\",\n",
    "            \"description\": \"Given a ticker symbol (i.e AAPL) returns the performance of the stock for the last 100 days.\",\n",
    "            \"parameters\": {\n",
    "                \"type\": \"object\",\n",
    "                \"properties\": {\n",
    "                    \"ticker\": {\n",
    "                        \"type\": \"string\",\n",
    "                        \"description\": \"Ticker symbol of the company\",\n",
    "                    },\n",
    "                },\n",
    "                \"required\": [\"ticker\"],\n",
    "            },\n",
    "        },\n",
    "    },\n",
    "]\n",
    "\n",
    "# get_income_statement({\"ticker\":\"AAPL\"})"
   ]
  },
  {
   "cell_type": "code",
   "execution_count": 6,
   "metadata": {},
   "outputs": [],
   "source": [
    "from openai import OpenAI\n",
    "\n",
    "client = OpenAI()\n",
    "\n",
    "# assistant = client.beta.assistants.create(\n",
    "# name=\"Investor Assistant\",\n",
    "# instructions=\"You help users do research on publicly traded companies and you help users decide if they should buy the stock or not.\",\n",
    "# tools=functions,\n",
    "# model=\"gpt-4o\",\n",
    "# )\n",
    "\n",
    "assistant_id = \"asst_13eo2MdAQaNGc4XTBhTHlOW3\"\n",
    "\n"
   ]
  },
  {
   "cell_type": "code",
   "execution_count": 7,
   "metadata": {},
   "outputs": [
    {
     "data": {
      "text/plain": [
       "Thread(id='thread_6Gacw0IutbyrLlbxArBw3MK0', created_at=1727835056, metadata={}, object='thread', tool_resources=ToolResources(code_interpreter=None, file_search=None), _request_id='req_30e9a8ce64ca65b638260c4c96f76d99', __exclude_fields__={'__exclude_fields__', '_request_id'})"
      ]
     },
     "execution_count": 7,
     "metadata": {},
     "output_type": "execute_result"
    }
   ],
   "source": [
    "client = OpenAI()\n",
    "\n",
    "thread = client.beta.threads.create(\n",
    "    messages = [\n",
    "        {\n",
    "            \"role\":\"user\",\n",
    "            \"content\":\"I want to know if the Salesforce stock is a good buy\"\n",
    "        }\n",
    "    ]\n",
    ")\n",
    "\n",
    "thread"
   ]
  },
  {
   "cell_type": "code",
   "execution_count": 16,
   "metadata": {},
   "outputs": [
    {
     "data": {
      "text/plain": [
       "Run(id='run_Pk9EsB1tKOTx3rNHnNIo8EVk', assistant_id='asst_13eo2MdAQaNGc4XTBhTHlOW3', cancelled_at=None, completed_at=None, created_at=1727835934, expires_at=1727836534, failed_at=None, incomplete_details=None, instructions='You help users do research on publicly traded companies and you help users decide if they should buy the stock or not.', last_error=None, max_completion_tokens=None, max_prompt_tokens=None, metadata={}, model='gpt-4o', object='thread.run', parallel_tool_calls=True, required_action=None, response_format='auto', started_at=None, status='queued', thread_id='thread_6Gacw0IutbyrLlbxArBw3MK0', tool_choice='auto', tools=[FunctionTool(function=FunctionDefinition(name='get_ticker', description='Given the name of a company returns its ticker symbol', parameters={'type': 'object', 'properties': {'company_name': {'type': 'string', 'description': 'The name of the company'}}, 'required': ['company_name']}, strict=False), type='function'), FunctionTool(function=FunctionDefinition(name='get_income_statement', description=\"Given a ticker symbol (i.e AAPL) returns the company's income statement.\", parameters={'type': 'object', 'properties': {'ticker': {'type': 'string', 'description': 'Ticker symbol of the company'}}, 'required': ['ticker']}, strict=False), type='function'), FunctionTool(function=FunctionDefinition(name='get_balance_sheet', description=\"Given a ticker symbol (i.e AAPL) returns the company's balance sheet.\", parameters={'type': 'object', 'properties': {'ticker': {'type': 'string', 'description': 'Ticker symbol of the company'}}, 'required': ['ticker']}, strict=False), type='function'), FunctionTool(function=FunctionDefinition(name='get_daily_stock_performance', description='Given a ticker symbol (i.e AAPL) returns the performance of the stock for the last 100 days.', parameters={'type': 'object', 'properties': {'ticker': {'type': 'string', 'description': 'Ticker symbol of the company'}}, 'required': ['ticker']}, strict=False), type='function')], truncation_strategy=TruncationStrategy(type='auto', last_messages=None), usage=None, temperature=1.0, top_p=1.0, tool_resources={}, _request_id='req_0ef83b8d8d7adf53368b48826d64236b', __exclude_fields__={'__exclude_fields__', '_request_id'})"
      ]
     },
     "execution_count": 16,
     "metadata": {},
     "output_type": "execute_result"
    }
   ],
   "source": [
    "\n",
    "run = client.beta.threads.runs.create(\n",
    "    thread_id=thread.id,\n",
    "    assistant_id=assistant_id\n",
    ")\n",
    "run"
   ]
  },
  {
   "cell_type": "code",
   "execution_count": 23,
   "metadata": {},
   "outputs": [],
   "source": [
    "def get_run(run_id, thread_id):\n",
    "    return client.beta.threads.runs.retrieve(\n",
    "        run_id=run_id,\n",
    "        thread_id=thread_id\n",
    "    )\n",
    "\n",
    "def send_messages(thread_id, content):\n",
    "    return client.beta.threads.messages.create(\n",
    "        thread_id=thread_id,\n",
    "        role=\"user\",\n",
    "        content=content\n",
    "    )\n",
    "\n",
    "def get_messages(thread_id):\n",
    "    messages = client.beta.threads.messages.list(\n",
    "        thread_id=thread_id\n",
    "    )\n",
    "    messages = list(messages)\n",
    "    messages.reverse()\n",
    "    for message in messages:\n",
    "        print(f\"{message.role}: {message.content[0].text.value}\")\n",
    "\n",
    "def get_tool_outputs(run_id, thread_id):\n",
    "    run = get_run(run_id, thread.id)\n",
    "    outputs = []\n",
    "    for action in run.required_action.submit_tool_outputs.tool_calls:\n",
    "        #print(action)\n",
    "        action_id = action.id\n",
    "        function = action.function\n",
    "        print(f\"Calling function: {function.name} with arg {function.arguments}\")\n",
    "        outputs.append({\n",
    "            \"output\":functions_map[function.name](json.loads(function.arguments)),\n",
    "            \"tool_call_id\":action_id\n",
    "        })\n",
    "    return outputs\n",
    "\n",
    "def submit_tool_outputs(run_id, thread_id):\n",
    "    outputs = get_tool_outputs(run_id, thread_id)\n",
    "    return client.beta.threads.runs.submit_tool_outputs(\n",
    "        run_id=run_id,\n",
    "        thread_id=thread_id,\n",
    "        tool_outputs=outputs\n",
    "    )"
   ]
  },
  {
   "cell_type": "code",
   "execution_count": 27,
   "metadata": {},
   "outputs": [
    {
     "data": {
      "text/plain": [
       "'completed'"
      ]
     },
     "execution_count": 27,
     "metadata": {},
     "output_type": "execute_result"
    }
   ],
   "source": [
    "get_run(run.id, thread.id).status"
   ]
  },
  {
   "cell_type": "code",
   "execution_count": 28,
   "metadata": {},
   "outputs": [
    {
     "name": "stdout",
     "output_type": "stream",
     "text": [
      "user: I want to know if the Salesforce stock is a good buy\n",
      "assistant: To determine if Salesforce (CRM) is a good buy, let's analyze the provided financial data:\n",
      "\n",
      "### Income Statement Analysis\n",
      "#### Key Figures for Recent Years:\n",
      "* **2023 (latest data)**\n",
      "  - Total Revenue: \\$34.857 billion\n",
      "  - Net Income: \\$4.136 billion\n",
      "  - EBITDA: \\$9.958 billion\n",
      "  - Diluted EPS: \\$4.20\n",
      "\n",
      "* **2022**\n",
      "  - Total Revenue: \\$31.352 billion\n",
      "  - Net Income: \\$208 million\n",
      "  - EBITDA: \\$5.644 billion\n",
      "  - Diluted EPS: \\$0.21\n",
      "\n",
      "* **2021**\n",
      "  - Total Revenue: \\$26.492 billion\n",
      "  - Net Income: \\$1.444 billion\n",
      "  - EBITDA: \\$3.846 billion\n",
      "  - Diluted EPS: \\$1.48\n",
      "\n",
      "**Trend Analysis:**\n",
      "- Revenue has shown consistent growth over the past few years.\n",
      "- Significant increase in net income from 2022 to 2023.\n",
      "- EBITDA and EPS both show significant improvement, indicating better operational efficiency and profitability.\n",
      "\n",
      "### Balance Sheet Analysis\n",
      "#### Key Figures for Recent Years:\n",
      "* **2023 (latest data)**\n",
      "  - Total Assets: \\$99.823 billion\n",
      "  - Total Liabilities: \\$40.177 billion\n",
      "  - Total Stockholders' Equity: \\$59.646 billion\n",
      "  - Cash and Cash Equivalents: \\$8.472 billion\n",
      "  - Total Debt: \\$12.588 billion\n",
      "\n",
      "* **2022**\n",
      "  - Total Assets: \\$98.849 billion\n",
      "  - Total Liabilities: \\$40.49 billion\n",
      "  - Total Stockholders' Equity: \\$58.359 billion\n",
      "  - Cash and Cash Equivalents: \\$7.016 billion\n",
      "  - Total Debt: \\$14.088 billion\n",
      "\n",
      "* **2021**\n",
      "  - Total Assets: \\$95.209 billion\n",
      "  - Total Liabilities: \\$37.078 billion\n",
      "  - Total Stockholders' Equity: \\$58.131 billion\n",
      "  - Cash and Cash Equivalents: \\$5.464 billion\n",
      "  - Total Debt: \\$13.985 billion\n",
      "\n",
      "**Trend Analysis:**\n",
      "- Gradual increase in stockholders’ equity indicating a solid financial base.\n",
      "- Increase in cash and cash equivalents, reflecting better liquidity.\n",
      "- Controlled debt levels compared to rising equity and assets, implying less leveraged growth.\n",
      "\n",
      "### Stock Performance Analysis (Last 100 Days)\n",
      "#### Key Points:\n",
      "- **Stock Price Range:** \n",
      "  - High: \\$278.64\n",
      "  - Low: \\$244.426\n",
      "  - Current: \\$270.44 (as of latest close)\n",
      "- **Volume Trends:**\n",
      "  - Average volume fluctuates with peaks indicating strategic buys or sells.\n",
      "- **Dividends:**\n",
      "  - Relatively stable dividend payouts.\n",
      "\n",
      "**Trend Analysis:**\n",
      "- The stock has experienced volatility but remained within a specific range, indicating some stability.\n",
      "- Volume spikes may indicate points of significant investor sentiment shifts.\n",
      "\n",
      "### Conclusion and Recommendations\n",
      "#### Positives:\n",
      "1. **Revenue Growth:** Consistent increase in revenue over the years.\n",
      "2. **Profitability:** Significant surge in net income and better EPS.\n",
      "3. **Strong Balance Sheet:** Increasing cash reserves and relatively stable debt.\n",
      "4. **Market Confidence:** Recent stock performance indicates a steady interest and confidence in the market.\n",
      "\n",
      "#### Considerations:\n",
      "1. **Volatility:** The stock price has shown some volatility which may be an indicator of market sensitivity to external factors.\n",
      "2. **Debt Management:** While controlled, debt levels should be continuously monitored.\n",
      "\n",
      "### Recommendation:\n",
      "Based on the strong revenue growth, improved profitability, stable financial health, and consistent market performance, Salesforce (CRM) appears to be a solid investment. However, always consider doing your deeper analysis or consult with a financial advisor to align with your financial goals and risk tolerance.\n"
     ]
    }
   ],
   "source": [
    "get_messages(thread.id)"
   ]
  },
  {
   "cell_type": "code",
   "execution_count": 25,
   "metadata": {},
   "outputs": [
    {
     "name": "stdout",
     "output_type": "stream",
     "text": [
      "Calling function: get_income_statement with arg {\"ticker\": \"CRM\"}\n",
      "Calling function: get_balance_sheet with arg {\"ticker\": \"CRM\"}\n",
      "Calling function: get_daily_stock_performance with arg {\"ticker\": \"CRM\"}\n"
     ]
    },
    {
     "data": {
      "text/plain": [
       "Run(id='run_Pk9EsB1tKOTx3rNHnNIo8EVk', assistant_id='asst_13eo2MdAQaNGc4XTBhTHlOW3', cancelled_at=None, completed_at=None, created_at=1727835934, expires_at=1727836534, failed_at=None, incomplete_details=None, instructions='You help users do research on publicly traded companies and you help users decide if they should buy the stock or not.', last_error=None, max_completion_tokens=None, max_prompt_tokens=None, metadata={}, model='gpt-4o', object='thread.run', parallel_tool_calls=True, required_action=None, response_format='auto', started_at=1727835934, status='queued', thread_id='thread_6Gacw0IutbyrLlbxArBw3MK0', tool_choice='auto', tools=[FunctionTool(function=FunctionDefinition(name='get_ticker', description='Given the name of a company returns its ticker symbol', parameters={'type': 'object', 'properties': {'company_name': {'type': 'string', 'description': 'The name of the company'}}, 'required': ['company_name']}, strict=False), type='function'), FunctionTool(function=FunctionDefinition(name='get_income_statement', description=\"Given a ticker symbol (i.e AAPL) returns the company's income statement.\", parameters={'type': 'object', 'properties': {'ticker': {'type': 'string', 'description': 'Ticker symbol of the company'}}, 'required': ['ticker']}, strict=False), type='function'), FunctionTool(function=FunctionDefinition(name='get_balance_sheet', description=\"Given a ticker symbol (i.e AAPL) returns the company's balance sheet.\", parameters={'type': 'object', 'properties': {'ticker': {'type': 'string', 'description': 'Ticker symbol of the company'}}, 'required': ['ticker']}, strict=False), type='function'), FunctionTool(function=FunctionDefinition(name='get_daily_stock_performance', description='Given a ticker symbol (i.e AAPL) returns the performance of the stock for the last 100 days.', parameters={'type': 'object', 'properties': {'ticker': {'type': 'string', 'description': 'Ticker symbol of the company'}}, 'required': ['ticker']}, strict=False), type='function')], truncation_strategy=TruncationStrategy(type='auto', last_messages=None), usage=None, temperature=1.0, top_p=1.0, tool_resources={}, _request_id='req_c34c4126be28658866aec3607973b6ac', __exclude_fields__={'__exclude_fields__', '_request_id'})"
      ]
     },
     "execution_count": 25,
     "metadata": {},
     "output_type": "execute_result"
    }
   ],
   "source": [
    "submit_tool_outputs(run.id, thread.id)"
   ]
  }
 ],
 "metadata": {
  "kernelspec": {
   "display_name": "env",
   "language": "python",
   "name": "python3"
  },
  "language_info": {
   "codemirror_mode": {
    "name": "ipython",
    "version": 3
   },
   "file_extension": ".py",
   "mimetype": "text/x-python",
   "name": "python",
   "nbconvert_exporter": "python",
   "pygments_lexer": "ipython3",
   "version": "3.11.6"
  }
 },
 "nbformat": 4,
 "nbformat_minor": 2
}
