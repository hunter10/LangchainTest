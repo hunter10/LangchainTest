{
 "cells": [
  {
   "cell_type": "code",
   "execution_count": 1,
   "metadata": {},
   "outputs": [
    {
     "name": "stdout",
     "output_type": "stream",
     "text": [
      "\n",
      "\n",
      "\u001b[1m> Entering new AgentExecutor chain...\u001b[0m\n",
      "\u001b[32;1m\u001b[1;3m\n",
      "Invoking: `StockMarketSymbolSearchTool` with `{'query': 'Stock Market Symbol for Cloudflare Company'}`\n",
      "\n",
      "\n",
      "\u001b[0m\u001b[36;1m\u001b[1;3m[snippet: Cloudflare Q2 Earnings Highlights: Revenue Beat, EPS Beat, Guidance Shines. Cloud connectivity company Cloudflare Inc NET reported second-quarter revenue of $401.0 million, up 30% year-over-year. The revenue beat a Street consensus estimate of $394.69 million, according to da... 4 weeks ago - Benzinga., title: Cloudflare, Inc. (NET) Stock Price, Quote & News - Stock Analysis, link: https://stockanalysis.com/stocks/net/], [snippet: The stock has received mixed analyst ratings, with some firms issuing sell ratings, suggesting uncertainty in the market regarding Cloudflare's performance. The company's stock price has experienced fluctuations, trading down on certain days, which may introduce volatility and risk for investors., title: Cloudflare (NET) Stock Price, News & Analysis - MarketBeat, link: https://www.marketbeat.com/stocks/NYSE/NET/], [snippet: Stock analysis for Cloudflare Inc (NET:New York) including stock price, stock chart, company news, key statistics, fundamentals and company profile., title: NET: Cloudflare Inc Stock Price Quote - New York - Bloomberg, link: https://www.bloomberg.com/quote/NET:US], [snippet: Real-time Cloudflare stock price (NYSE: ... Global Cybersecurity Market Size Expected to Reach $298 Billion By 2028 as Cyber Threats Skyrocket. ... Cloudflare is a software company based in San ..., title: Cloudflare Stock Price - NYSE: NET - Morningstar, link: https://www.morningstar.com/stocks/xnys/net/quote]\u001b[0m\u001b[32;1m\u001b[1;3mThe stock symbol for Cloudflare is NET. \n",
      "\n",
      "Cloudflare's stock has experienced fluctuations in its price, with some analysts issuing mixed ratings, including sell ratings. This suggests uncertainty in the market regarding Cloudflare's performance. The company reported second-quarter revenue of $401.0 million, showing a 30% year-over-year increase. However, the stock price has shown volatility on certain days, which may introduce risk for investors.\n",
      "\n",
      "To analyze if Cloudflare is a potential good investment, we would need to consider various factors such as the company's financial performance, growth prospects, competitive landscape, and market conditions. It's important to conduct a thorough analysis and consider your investment goals and risk tolerance before making any investment decisions.\u001b[0m\n",
      "\n",
      "\u001b[1m> Finished chain.\u001b[0m\n"
     ]
    },
    {
     "data": {
      "text/plain": [
       "{'input': \"Give me information on Cloudflare's stock and help me analyze if it's a potential good investment. Also tell me what symbol does the stock have.\",\n",
       " 'output': \"The stock symbol for Cloudflare is NET. \\n\\nCloudflare's stock has experienced fluctuations in its price, with some analysts issuing mixed ratings, including sell ratings. This suggests uncertainty in the market regarding Cloudflare's performance. The company reported second-quarter revenue of $401.0 million, showing a 30% year-over-year increase. However, the stock price has shown volatility on certain days, which may introduce risk for investors.\\n\\nTo analyze if Cloudflare is a potential good investment, we would need to consider various factors such as the company's financial performance, growth prospects, competitive landscape, and market conditions. It's important to conduct a thorough analysis and consider your investment goals and risk tolerance before making any investment decisions.\"}"
      ]
     },
     "execution_count": 1,
     "metadata": {},
     "output_type": "execute_result"
    }
   ],
   "source": [
    "from typing import Any, Type\n",
    "from langchain.chat_models import ChatOpenAI\n",
    "from langchain.tools import BaseTool\n",
    "from pydantic import BaseModel, Field\n",
    "from langchain.agents import initialize_agent, AgentType\n",
    "from langchain.utilities import DuckDuckGoSearchAPIWrapper\n",
    "from langchain.tools import DuckDuckGoSearchResults\n",
    "\n",
    "llm = ChatOpenAI(temperature=0.1)\n",
    "\n",
    "class StockMarketSymbolSearchToolArgsSchema(BaseModel):\n",
    "    query: str = Field(description=\"The query you will search for.Example query: Stock Market Symbol for Apple Company\")\n",
    "\n",
    "class StockMarketSymbolSearchTool(BaseTool):\n",
    "    name = \"StockMarketSymbolSearchTool\"\n",
    "    description = \"\"\"\n",
    "    Use this tool to find the stock market symbol for a company.\n",
    "    It takes a query as an argument.\n",
    "    \"\"\"\n",
    "    args_schema: Type[\n",
    "        StockMarketSymbolSearchToolArgsSchema\n",
    "    ] = StockMarketSymbolSearchToolArgsSchema\n",
    "\n",
    "    def _run(self, query):\n",
    "        #ddg = DuckDuckGoSearchAPIWrapper()\n",
    "        ddg = DuckDuckGoSearchResults()\n",
    "        return ddg.run(query)\n",
    "\n",
    "agent = initialize_agent(\n",
    "    llm=llm, \n",
    "    verbose=True,\n",
    "    agent=AgentType.OPENAI_FUNCTIONS,\n",
    "    handle_parsing_errors=True, # 영상과 달리 2024.9.2 현재 이 문장이 없어도 문법에러는 없음\n",
    "    tools=[\n",
    "        StockMarketSymbolSearchTool(),\n",
    "    ],\n",
    ")\n",
    " \n",
    "# 합계 $5273.38\n",
    "#prompt = \"Cost of $355.39 + $924.87 + $721.2 + $1940.29 + $573.63 + $65.72 + $35.00 + $552.00 + $76.16 + $29.12\"\n",
    "prompt = \"Give me information on Cloudflare's stock and help me analyze if it's a potential good investment. Also tell me what symbol does the stock have.\"\n",
    "\n",
    "# llm으로만 프롬프트 실행\n",
    "# llm.invoke(prompt)\n",
    "\n",
    "agent.invoke(prompt)"
   ]
  }
 ],
 "metadata": {
  "kernelspec": {
   "display_name": "env",
   "language": "python",
   "name": "python3"
  },
  "language_info": {
   "codemirror_mode": {
    "name": "ipython",
    "version": 3
   },
   "file_extension": ".py",
   "mimetype": "text/x-python",
   "name": "python",
   "nbconvert_exporter": "python",
   "pygments_lexer": "ipython3",
   "version": "3.11.6"
  }
 },
 "nbformat": 4,
 "nbformat_minor": 2
}
