{
 "cells": [
  {
   "cell_type": "code",
   "execution_count": 2,
   "metadata": {},
   "outputs": [],
   "source": [
    "from openai import OpenAI\n",
    "\n",
    "# 어시스턴트 생성로직 한번만 실행해야 함. 실행후에 주석처리 요망\n",
    "\n",
    "client = OpenAI()\n",
    "\n",
    "# assistant = client.beta.assistants.create(\n",
    "# name=\"Book Assistant\",\n",
    "# instructions=\"You help users with their question on the files they upload.\",\n",
    "# model=\"gpt-4o-mini\",\n",
    "# tools=[{\"type\":\"file_search\"}],\n",
    "# )\n",
    "# assistant\n",
    "\n",
    "# assistant_id = \"asst_13eo2MdAQaNGc4XTBhTHlOW3\" # 기업 주식을 사도 되는지 물어보는 어시스턴트\n",
    "assistant_id =\"asst_PGve25w5xLdOMxbq7DaCXkVl\" # 책 내용분석 어시스턴트\n",
    "\n"
   ]
  },
  {
   "cell_type": "code",
   "execution_count": null,
   "metadata": {},
   "outputs": [],
   "source": [
    "client = OpenAI()\n",
    "\n",
    "thread = client.beta.threads.create(\n",
    "    messages = [\n",
    "        {\n",
    "            \"role\":\"user\",\n",
    "            \"content\": \"I want you to help me with this file\",\n",
    "        }\n",
    "    ]\n",
    ")\n",
    "thread"
   ]
  },
  {
   "cell_type": "code",
   "execution_count": null,
   "metadata": {},
   "outputs": [],
   "source": [
    "file = client.files.create(\n",
    "    file=open(\"./files/chapter_one.pdf\", \"rb\"),\n",
    "    purpose=\"assistants\",\n",
    ")\n",
    "file"
   ]
  },
  {
   "cell_type": "code",
   "execution_count": null,
   "metadata": {},
   "outputs": [],
   "source": [
    "client.beta.threads.messages.create(\n",
    "    thread_id=thread.id,\n",
    "    role=\"user\",\n",
    "    content=\"Please refer to the uploaded file for my question.\",\n",
    "    attachments=[\n",
    "        {\n",
    "            \"file_id\":file.id,\n",
    "            \"tools\":[\n",
    "                {\n",
    "                    \"type\":\"file_search\",\n",
    "                },\n",
    "            ],\n",
    "        },\n",
    "    ],\n",
    ")"
   ]
  },
  {
   "cell_type": "code",
   "execution_count": null,
   "metadata": {},
   "outputs": [],
   "source": [
    "\n",
    "run = client.beta.threads.runs.create(\n",
    "    thread_id=thread.id,\n",
    "    assistant_id=assistant_id\n",
    ")\n",
    "run"
   ]
  },
  {
   "cell_type": "code",
   "execution_count": 6,
   "metadata": {},
   "outputs": [],
   "source": [
    "def get_run(run_id, thread_id):\n",
    "    return client.beta.threads.runs.retrieve(\n",
    "        run_id=run_id,\n",
    "        thread_id=thread_id\n",
    "    )\n",
    "\n",
    "def send_messages(thread_id, content):\n",
    "    return client.beta.threads.messages.create(\n",
    "        thread_id=thread_id,\n",
    "        role=\"user\",\n",
    "        content=content\n",
    "    )\n",
    "\n",
    "def get_messages(thread_id):\n",
    "    messages = client.beta.threads.messages.list(\n",
    "        thread_id=thread_id\n",
    "    )\n",
    "    messages = list(messages)\n",
    "    messages.reverse()\n",
    "    for message in messages:\n",
    "        print(f\"{message.role}: {message.content[0].text.value}\")\n"
   ]
  },
  {
   "cell_type": "code",
   "execution_count": 21,
   "metadata": {},
   "outputs": [
    {
     "data": {
      "text/plain": [
       "'completed'"
      ]
     },
     "execution_count": 21,
     "metadata": {},
     "output_type": "execute_result"
    }
   ],
   "source": [
    "get_run(run.id, thread.id).status"
   ]
  },
  {
   "cell_type": "code",
   "execution_count": 22,
   "metadata": {},
   "outputs": [
    {
     "name": "stdout",
     "output_type": "stream",
     "text": [
      "user: I want you to help me with this file\n",
      "user: Please refer to the uploaded file for my question.\n",
      "assistant: Please let me know what specific question you have regarding the file, so I can assist you effectively.\n",
      "user: I want to know where Winston lives and how his apartment looks like.\n",
      "assistant: Winston Smith lives in a place called Victory Mansions, which is described as a dilapidated building. The entrance of this building is depicted as grimy, as Winston quickly slips through the glass doors but not in time to prevent dust from entering. The hallway inside smells of boiled cabbage and old rags【7:0†source】. \n",
      "\n",
      "Winston's apartment itself is on the seventh floor, and he is shown to struggle with the stairs as the elevator is rarely functional due to electricity being rationed. The walls of the building display large posters of Big Brother, whose phrase \"BIG BROTHER IS WATCHING YOU\" signifies the oppressive surveillance state【7:0†source】.\n",
      "\n",
      "Inside his flat, Winston has a telescreen that constantly emits propaganda and can see and hear him, creating a sense of perpetual observation【7:0†source】. The furnishings are minimal; at one point, it's mentioned that he finds only a hunk of dark bread and some Victory Gin in his kitchen. The flat also features a small living room, a tiny kitchen, and a bedroom area—the overall impression is one of squalor and neglect, which reflects the bleak atmosphere of his environment and the state's control【7:0†source】【7:4†source】.\n",
      "\n",
      "Overall, Winston's living situation is a reflection of the oppressive, deteriorating society he inhabits, serving as a stark backdrop for his struggles against the totalitarian regime.\n",
      "user: Where does he work?\n",
      "assistant: Winston works at the Ministry of Truth, specifically in the Records Department. This department is responsible for managing and altering historical records to fit the Party's current narrative. The Ministry itself is a large and imposing structure referred to as \"Minitrue\" in Newspeak, and it has three thousand rooms above ground level, along with numerous ramifications below【11:1†source】【11:5†source】.\n",
      "\n",
      "During his time at work, Winston participates in various activities, including preparation for the Two Minutes Hate, a daily event where citizens express their hatred for the Party's enemies. He encounters coworkers there but does not have personal conversations with them【11:0†source】【11:4†source】. The oppressive atmosphere of the Ministry, along with the surveillance from telescreens, adds to the overall control exerted by the Party over its members【11:3†source】【11:11†source】.\n"
     ]
    }
   ],
   "source": [
    "get_messages(thread.id)"
   ]
  },
  {
   "cell_type": "code",
   "execution_count": null,
   "metadata": {},
   "outputs": [],
   "source": [
    "send_messages(thread.id, \"I want to know where Winston lives and how his apartment looks like.\")"
   ]
  },
  {
   "cell_type": "code",
   "execution_count": null,
   "metadata": {},
   "outputs": [],
   "source": [
    "send_messages(thread.id, \"Where does he work?\")"
   ]
  }
 ],
 "metadata": {
  "kernelspec": {
   "display_name": "env",
   "language": "python",
   "name": "python3"
  },
  "language_info": {
   "codemirror_mode": {
    "name": "ipython",
    "version": 3
   },
   "file_extension": ".py",
   "mimetype": "text/x-python",
   "name": "python",
   "nbconvert_exporter": "python",
   "pygments_lexer": "ipython3",
   "version": "3.11.6"
  }
 },
 "nbformat": 4,
 "nbformat_minor": 2
}
